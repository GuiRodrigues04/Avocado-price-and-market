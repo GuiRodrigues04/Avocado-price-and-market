{
 "cells": [
  {
   "cell_type": "markdown",
   "id": "21f1f400",
   "metadata": {
    "papermill": {
     "duration": 0.004874,
     "end_time": "2023-07-24T04:50:34.167933",
     "exception": false,
     "start_time": "2023-07-24T04:50:34.163059",
     "status": "completed"
    },
    "tags": []
   },
   "source": [
    "## Notes\n",
    "Just a simple project where I'll show how i work during the process of Data Visualization. I'll explain each code trying to make in the easiest way that i can. I won't use any Machine learning algorithm, just simple algorithms with the purpose making the visualization of the data easier."
   ]
  },
  {
   "cell_type": "markdown",
   "id": "a85a607d",
   "metadata": {
    "papermill": {
     "duration": 0.003789,
     "end_time": "2023-07-24T04:50:34.176147",
     "exception": false,
     "start_time": "2023-07-24T04:50:34.172358",
     "status": "completed"
    },
    "tags": []
   },
   "source": [
    "# Importing packages"
   ]
  },
  {
   "cell_type": "code",
   "execution_count": 1,
   "id": "cfebc503",
   "metadata": {
    "execution": {
     "iopub.execute_input": "2023-07-24T04:50:34.188115Z",
     "iopub.status.busy": "2023-07-24T04:50:34.187064Z",
     "iopub.status.idle": "2023-07-24T04:50:36.037333Z",
     "shell.execute_reply": "2023-07-24T04:50:36.035834Z"
    },
    "papermill": {
     "duration": 1.860552,
     "end_time": "2023-07-24T04:50:36.041212",
     "exception": false,
     "start_time": "2023-07-24T04:50:34.180660",
     "status": "completed"
    },
    "tags": []
   },
   "outputs": [
    {
     "name": "stderr",
     "output_type": "stream",
     "text": [
      "/opt/conda/lib/python3.10/site-packages/scipy/__init__.py:146: UserWarning: A NumPy version >=1.16.5 and <1.23.0 is required for this version of SciPy (detected version 1.23.5\n",
      "  warnings.warn(f\"A NumPy version >={np_minversion} and <{np_maxversion}\"\n"
     ]
    }
   ],
   "source": [
    "import pandas as pd # package of dataframes\n",
    "import numpy as np # package of arrays and other things\n",
    "import matplotlib.pyplot as plt # package of graphs \n",
    "import seaborn as sns # other package of graphs"
   ]
  },
  {
   "cell_type": "markdown",
   "id": "1df6c154",
   "metadata": {
    "papermill": {
     "duration": 0.004993,
     "end_time": "2023-07-24T04:50:36.051389",
     "exception": false,
     "start_time": "2023-07-24T04:50:36.046396",
     "status": "completed"
    },
    "tags": []
   },
   "source": [
    "# Reading and treating the data"
   ]
  },
  {
   "cell_type": "code",
   "execution_count": 2,
   "id": "47e8d80f",
   "metadata": {
    "execution": {
     "iopub.execute_input": "2023-07-24T04:50:36.062261Z",
     "iopub.status.busy": "2023-07-24T04:50:36.061840Z",
     "iopub.status.idle": "2023-07-24T04:50:36.211766Z",
     "shell.execute_reply": "2023-07-24T04:50:36.210342Z"
    },
    "papermill": {
     "duration": 0.159446,
     "end_time": "2023-07-24T04:50:36.215261",
     "exception": false,
     "start_time": "2023-07-24T04:50:36.055815",
     "status": "completed"
    },
    "tags": []
   },
   "outputs": [
    {
     "data": {
      "text/html": [
       "<div>\n",
       "<style scoped>\n",
       "    .dataframe tbody tr th:only-of-type {\n",
       "        vertical-align: middle;\n",
       "    }\n",
       "\n",
       "    .dataframe tbody tr th {\n",
       "        vertical-align: top;\n",
       "    }\n",
       "\n",
       "    .dataframe thead th {\n",
       "        text-align: right;\n",
       "    }\n",
       "</style>\n",
       "<table border=\"1\" class=\"dataframe\">\n",
       "  <thead>\n",
       "    <tr style=\"text-align: right;\">\n",
       "      <th></th>\n",
       "      <th>Unnamed: 0</th>\n",
       "      <th>Date</th>\n",
       "      <th>AveragePrice</th>\n",
       "      <th>Total Volume</th>\n",
       "      <th>4046</th>\n",
       "      <th>4225</th>\n",
       "      <th>4770</th>\n",
       "      <th>Total Bags</th>\n",
       "      <th>Small Bags</th>\n",
       "      <th>Large Bags</th>\n",
       "      <th>XLarge Bags</th>\n",
       "      <th>type</th>\n",
       "      <th>year</th>\n",
       "      <th>region</th>\n",
       "    </tr>\n",
       "  </thead>\n",
       "  <tbody>\n",
       "    <tr>\n",
       "      <th>0</th>\n",
       "      <td>0</td>\n",
       "      <td>2015-12-27</td>\n",
       "      <td>1.33</td>\n",
       "      <td>64236.62</td>\n",
       "      <td>1036.74</td>\n",
       "      <td>54454.85</td>\n",
       "      <td>48.16</td>\n",
       "      <td>8696.87</td>\n",
       "      <td>8603.62</td>\n",
       "      <td>93.25</td>\n",
       "      <td>0.0</td>\n",
       "      <td>conventional</td>\n",
       "      <td>2015</td>\n",
       "      <td>Albany</td>\n",
       "    </tr>\n",
       "    <tr>\n",
       "      <th>1</th>\n",
       "      <td>1</td>\n",
       "      <td>2015-12-20</td>\n",
       "      <td>1.35</td>\n",
       "      <td>54876.98</td>\n",
       "      <td>674.28</td>\n",
       "      <td>44638.81</td>\n",
       "      <td>58.33</td>\n",
       "      <td>9505.56</td>\n",
       "      <td>9408.07</td>\n",
       "      <td>97.49</td>\n",
       "      <td>0.0</td>\n",
       "      <td>conventional</td>\n",
       "      <td>2015</td>\n",
       "      <td>Albany</td>\n",
       "    </tr>\n",
       "    <tr>\n",
       "      <th>2</th>\n",
       "      <td>2</td>\n",
       "      <td>2015-12-13</td>\n",
       "      <td>0.93</td>\n",
       "      <td>118220.22</td>\n",
       "      <td>794.70</td>\n",
       "      <td>109149.67</td>\n",
       "      <td>130.50</td>\n",
       "      <td>8145.35</td>\n",
       "      <td>8042.21</td>\n",
       "      <td>103.14</td>\n",
       "      <td>0.0</td>\n",
       "      <td>conventional</td>\n",
       "      <td>2015</td>\n",
       "      <td>Albany</td>\n",
       "    </tr>\n",
       "    <tr>\n",
       "      <th>3</th>\n",
       "      <td>3</td>\n",
       "      <td>2015-12-06</td>\n",
       "      <td>1.08</td>\n",
       "      <td>78992.15</td>\n",
       "      <td>1132.00</td>\n",
       "      <td>71976.41</td>\n",
       "      <td>72.58</td>\n",
       "      <td>5811.16</td>\n",
       "      <td>5677.40</td>\n",
       "      <td>133.76</td>\n",
       "      <td>0.0</td>\n",
       "      <td>conventional</td>\n",
       "      <td>2015</td>\n",
       "      <td>Albany</td>\n",
       "    </tr>\n",
       "    <tr>\n",
       "      <th>4</th>\n",
       "      <td>4</td>\n",
       "      <td>2015-11-29</td>\n",
       "      <td>1.28</td>\n",
       "      <td>51039.60</td>\n",
       "      <td>941.48</td>\n",
       "      <td>43838.39</td>\n",
       "      <td>75.78</td>\n",
       "      <td>6183.95</td>\n",
       "      <td>5986.26</td>\n",
       "      <td>197.69</td>\n",
       "      <td>0.0</td>\n",
       "      <td>conventional</td>\n",
       "      <td>2015</td>\n",
       "      <td>Albany</td>\n",
       "    </tr>\n",
       "  </tbody>\n",
       "</table>\n",
       "</div>"
      ],
      "text/plain": [
       "   Unnamed: 0        Date  AveragePrice  Total Volume     4046       4225  \\\n",
       "0           0  2015-12-27          1.33      64236.62  1036.74   54454.85   \n",
       "1           1  2015-12-20          1.35      54876.98   674.28   44638.81   \n",
       "2           2  2015-12-13          0.93     118220.22   794.70  109149.67   \n",
       "3           3  2015-12-06          1.08      78992.15  1132.00   71976.41   \n",
       "4           4  2015-11-29          1.28      51039.60   941.48   43838.39   \n",
       "\n",
       "     4770  Total Bags  Small Bags  Large Bags  XLarge Bags          type  \\\n",
       "0   48.16     8696.87     8603.62       93.25          0.0  conventional   \n",
       "1   58.33     9505.56     9408.07       97.49          0.0  conventional   \n",
       "2  130.50     8145.35     8042.21      103.14          0.0  conventional   \n",
       "3   72.58     5811.16     5677.40      133.76          0.0  conventional   \n",
       "4   75.78     6183.95     5986.26      197.69          0.0  conventional   \n",
       "\n",
       "   year  region  \n",
       "0  2015  Albany  \n",
       "1  2015  Albany  \n",
       "2  2015  Albany  \n",
       "3  2015  Albany  \n",
       "4  2015  Albany  "
      ]
     },
     "execution_count": 2,
     "metadata": {},
     "output_type": "execute_result"
    }
   ],
   "source": [
    "Avocado_df = pd.read_csv('/kaggle/input/avocado-prices/avocado.csv') # reading the data to a dataframe\n",
    "Avocado_df .head() # Seeing the fisrts 5 rows of the data frame"
   ]
  },
  {
   "cell_type": "code",
   "execution_count": 3,
   "id": "d5954b85",
   "metadata": {
    "execution": {
     "iopub.execute_input": "2023-07-24T04:50:36.227517Z",
     "iopub.status.busy": "2023-07-24T04:50:36.227091Z",
     "iopub.status.idle": "2023-07-24T04:50:36.277974Z",
     "shell.execute_reply": "2023-07-24T04:50:36.276267Z"
    },
    "papermill": {
     "duration": 0.06126,
     "end_time": "2023-07-24T04:50:36.281605",
     "exception": false,
     "start_time": "2023-07-24T04:50:36.220345",
     "status": "completed"
    },
    "tags": []
   },
   "outputs": [
    {
     "name": "stdout",
     "output_type": "stream",
     "text": [
      "<class 'pandas.core.frame.DataFrame'>\n",
      "RangeIndex: 18249 entries, 0 to 18248\n",
      "Data columns (total 14 columns):\n",
      " #   Column        Non-Null Count  Dtype  \n",
      "---  ------        --------------  -----  \n",
      " 0   Unnamed: 0    18249 non-null  int64  \n",
      " 1   Date          18249 non-null  object \n",
      " 2   AveragePrice  18249 non-null  float64\n",
      " 3   Total Volume  18249 non-null  float64\n",
      " 4   4046          18249 non-null  float64\n",
      " 5   4225          18249 non-null  float64\n",
      " 6   4770          18249 non-null  float64\n",
      " 7   Total Bags    18249 non-null  float64\n",
      " 8   Small Bags    18249 non-null  float64\n",
      " 9   Large Bags    18249 non-null  float64\n",
      " 10  XLarge Bags   18249 non-null  float64\n",
      " 11  type          18249 non-null  object \n",
      " 12  year          18249 non-null  int64  \n",
      " 13  region        18249 non-null  object \n",
      "dtypes: float64(9), int64(2), object(3)\n",
      "memory usage: 1.9+ MB\n"
     ]
    }
   ],
   "source": [
    "Avocado_df.info() # Getting some info about the df columns"
   ]
  },
  {
   "cell_type": "markdown",
   "id": "4133ea70",
   "metadata": {
    "papermill": {
     "duration": 0.004715,
     "end_time": "2023-07-24T04:50:36.291619",
     "exception": false,
     "start_time": "2023-07-24T04:50:36.286904",
     "status": "completed"
    },
    "tags": []
   },
   "source": [
    "### Obs\n",
    "Normally i would change some columns names to make my job easier, but this names are actually pretty good."
   ]
  },
  {
   "cell_type": "code",
   "execution_count": 4,
   "id": "ab0a6940",
   "metadata": {
    "execution": {
     "iopub.execute_input": "2023-07-24T04:50:36.304245Z",
     "iopub.status.busy": "2023-07-24T04:50:36.303786Z",
     "iopub.status.idle": "2023-07-24T04:50:36.318104Z",
     "shell.execute_reply": "2023-07-24T04:50:36.316679Z"
    },
    "papermill": {
     "duration": 0.02437,
     "end_time": "2023-07-24T04:50:36.321115",
     "exception": false,
     "start_time": "2023-07-24T04:50:36.296745",
     "status": "completed"
    },
    "tags": []
   },
   "outputs": [],
   "source": [
    "# turning the date column in a actually datetime column to pandas\n",
    "Avocado_df[\"Date\"] = pd.to_datetime(Avocado_df[\"Date\"])"
   ]
  },
  {
   "cell_type": "markdown",
   "id": "365d6e7c",
   "metadata": {
    "papermill": {
     "duration": 0.00456,
     "end_time": "2023-07-24T04:50:36.330731",
     "exception": false,
     "start_time": "2023-07-24T04:50:36.326171",
     "status": "completed"
    },
    "tags": []
   },
   "source": [
    "# Starting the data visualization"
   ]
  },
  {
   "cell_type": "markdown",
   "id": "92a4cb94",
   "metadata": {
    "papermill": {
     "duration": 0.004378,
     "end_time": "2023-07-24T04:50:36.339851",
     "exception": false,
     "start_time": "2023-07-24T04:50:36.335473",
     "status": "completed"
    },
    "tags": []
   },
   "source": [
    "I want to see the distribution of the Avarage price. To do this I'm going to use hitograms and kernel density estimate (KDE) plots."
   ]
  },
  {
   "cell_type": "code",
   "execution_count": 5,
   "id": "db5ca32d",
   "metadata": {
    "execution": {
     "iopub.execute_input": "2023-07-24T04:50:36.351895Z",
     "iopub.status.busy": "2023-07-24T04:50:36.351490Z",
     "iopub.status.idle": "2023-07-24T04:50:36.966842Z",
     "shell.execute_reply": "2023-07-24T04:50:36.965499Z"
    },
    "papermill": {
     "duration": 0.62487,
     "end_time": "2023-07-24T04:50:36.969819",
     "exception": false,
     "start_time": "2023-07-24T04:50:36.344949",
     "status": "completed"
    },
    "tags": []
   },
   "outputs": [
    {
     "data": {
      "text/plain": [
       "<Axes: xlabel='AveragePrice', ylabel='Count'>"
      ]
     },
     "execution_count": 5,
     "metadata": {},
     "output_type": "execute_result"
    },
    {
     "data": {
      "image/png": "[encoded data removed]",
      "text/plain": [
       "<Figure size 640x480 with 1 Axes>"
      ]
     },
     "metadata": {},
     "output_type": "display_data"
    }
   ],
   "source": [
    "sns.set_theme()\n",
    "sns.histplot(Avocado_df['AveragePrice'])"
   ]
  }
 ],
 "metadata": {
  "kernelspec": {
   "display_name": "Python 3",
   "language": "python",
   "name": "python3"
  },
  "language_info": {
   "codemirror_mode": {
    "name": "ipython",
    "version": 3
   },
   "file_extension": ".py",
   "mimetype": "text/x-python",
   "name": "python",
   "nbconvert_exporter": "python",
   "pygments_lexer": "ipython3",
   "version": "3.10.12"
  },
  "papermill": {
   "default_parameters": {},
   "duration": 17.510699,
   "end_time": "2023-07-24T04:50:38.405991",
   "environment_variables": {},
   "exception": null,
   "input_path": "__notebook__.ipynb",
   "output_path": "__notebook__.ipynb",
   "parameters": {},
   "start_time": "2023-07-24T04:50:20.895292",
   "version": "2.4.0"
  }
 },
 "nbformat": 4,
 "nbformat_minor": 5
}
